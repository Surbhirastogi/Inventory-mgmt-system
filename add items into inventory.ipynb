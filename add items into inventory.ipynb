{
 "cells": [
  {
   "cell_type": "markdown",
   "id": "903dc546",
   "metadata": {},
   "source": [
    "# SURBHI RASTOGI\n",
    "Python for ML/AI intern @ Elite Techno Groups\n",
    "Project #1 - JSON Based Inventory Management System\n",
    "Read Data From JSON"
   ]
  },
  {
   "cell_type": "code",
   "execution_count": 7,
   "id": "a8c91077",
   "metadata": {},
   "outputs": [],
   "source": [
    "import json"
   ]
  },
  {
   "cell_type": "code",
   "execution_count": 4,
   "id": "a3913eb3",
   "metadata": {},
   "outputs": [],
   "source": [
    "fd=open(\"Record.json\",'r')\n",
    "r=fd.read()\n",
    "fd.close()\n"
   ]
  },
  {
   "cell_type": "code",
   "execution_count": 5,
   "id": "2c0d8a1f",
   "metadata": {},
   "outputs": [],
   "source": [
    "Record=json.loads(r)"
   ]
  },
  {
   "cell_type": "code",
   "execution_count": 8,
   "id": "6215ef4d",
   "metadata": {},
   "outputs": [
    {
     "data": {
      "text/plain": [
       "{'1001': {'Name': 'Drink', 'Price': 100, 'Quantity': 100},\n",
       " '1002': {'Name': 'Choco Cake', 'Price': 40, 'Quantity': 20},\n",
       " '1003': {'Name': 'Keyboard', 'Price': 350, 'Quantity': 25},\n",
       " '1004': {'Name': 'Laptop', 'Price': 50000, 'Quantity': 8},\n",
       " '1005': {'Name': 'Juice', 'Price': 150, 'Quantity': 95},\n",
       " '1006': {'Name': 'Pen', 'Price': 20, 'Quantity': 100},\n",
       " '1007': {'Name': 'Box', 'Price': 50, 'Quantity': 70},\n",
       " '1008': {'Name': 'Mobile Phone', 'Price': 15000, 'Quantity': 15},\n",
       " '1009': {'Name': 'Notebook', 'Price': 30, 'Quantity': 75},\n",
       " '1010': {'Name': 'Case', 'Price': 1500, 'Quantity': 55},\n",
       " '1011': {'Name': 'Sofa', 'Price': 40000, 'Quantity': 30},\n",
       " '1012': {'Name': 'Bed', 'Price': 45000, 'Quantity': 17},\n",
       " '1013': {'Name': 'Bulb', 'Price': 50, 'Quantity': 150},\n",
       " '1014': {'Name': 'LED', 'Price': 75000, 'Quantity': 42},\n",
       " '1015': {'Name': 'Tablet', 'Price': 30000, 'Quantity': 18},\n",
       " '1016': {'Name': 'Table', 'Price': 2400, 'Quantity': 23},\n",
       " '1017': {'Name': 'Rod', 'Price': 800, 'Quantity': 750},\n",
       " '1018': {'Name': 'Window Glass', 'Price': 1700, 'Quantity': 67},\n",
       " '1019': {'Name': 'Sun Glasses', 'Price': 1000, 'Quantity': 78},\n",
       " '1020': {'Name': 'Artificial Plants', 'Price': 400, 'Quantity': 350}}"
      ]
     },
     "execution_count": 8,
     "metadata": {},
     "output_type": "execute_result"
    }
   ],
   "source": [
    "Record"
   ]
  },
  {
   "cell_type": "code",
   "execution_count": 12,
   "id": "a7901d34",
   "metadata": {},
   "outputs": [
    {
     "name": "stdout",
     "output_type": "stream",
     "text": [
      "Number of items8\n",
      "Enter Name of the Product: shirt\n",
      "Enter Price of the product: 1000\n",
      "Enter quantity of the product: 4\n",
      "Enter Name of the Product: shoe polish\n",
      "Enter Price of the product: 8\n",
      "Enter quantity of the product: 80\n",
      "Enter Name of the Product: colours\n",
      "Enter Price of the product: 100\n",
      "Enter quantity of the product: 10\n",
      "Enter Name of the Product: tshirt\n",
      "Enter Price of the product: 500\n",
      "Enter quantity of the product: 10\n",
      "Enter Name of the Product: handgloves\n",
      "Enter Price of the product: 600\n",
      "Enter quantity of the product: 20\n",
      "Enter Name of the Product: charger\n",
      "Enter Price of the product: 700\n",
      "Enter quantity of the product: 5\n",
      "Enter Name of the Product: boots\n",
      "Enter Price of the product: 2000\n",
      "Enter quantity of the product: 6\n",
      "Enter Name of the Product: candies\n",
      "Enter Price of the product: 30\n",
      "Enter quantity of the product: 40\n"
     ]
    }
   ],
   "source": [
    "#adding new item into inventory\n",
    "n=int(input(\"Number of items\"))\n",
    "prod_id=1020\n",
    "for i in range(n):\n",
    "    prod_id=prod_id+1\n",
    "    Name=input(\"Enter Name of the Product: \")\n",
    "    Price=int(input(\"Enter Price of the product: \"))\n",
    "    Quantity=int(input(\"Enter quantity of the product: \"))\n",
    "    Record[prod_id] = {'Name': Name, 'Price': Price, 'Quantity': Quantity}\n",
    "\n",
    "    js = json.dumps(Record)\n",
    "\n",
    "    fd = open(\"Record.json\",'w')\n",
    "    fd.write(js)\n",
    "    fd.close()"
   ]
  },
  {
   "cell_type": "code",
   "execution_count": 14,
   "id": "b7339a04",
   "metadata": {},
   "outputs": [
    {
     "data": {
      "text/plain": [
       "{'1001': {'Name': 'Drink', 'Price': 100, 'Quantity': 100},\n",
       " '1002': {'Name': 'Choco Cake', 'Price': 40, 'Quantity': 20},\n",
       " '1003': {'Name': 'Keyboard', 'Price': 350, 'Quantity': 25},\n",
       " '1004': {'Name': 'Laptop', 'Price': 50000, 'Quantity': 8},\n",
       " '1005': {'Name': 'Juice', 'Price': 150, 'Quantity': 95},\n",
       " '1006': {'Name': 'Pen', 'Price': 20, 'Quantity': 100},\n",
       " '1007': {'Name': 'Box', 'Price': 50, 'Quantity': 70},\n",
       " '1008': {'Name': 'Mobile Phone', 'Price': 15000, 'Quantity': 15},\n",
       " '1009': {'Name': 'Notebook', 'Price': 30, 'Quantity': 75},\n",
       " '1010': {'Name': 'Case', 'Price': 1500, 'Quantity': 55},\n",
       " '1011': {'Name': 'Sofa', 'Price': 40000, 'Quantity': 30},\n",
       " '1012': {'Name': 'Bed', 'Price': 45000, 'Quantity': 17},\n",
       " '1013': {'Name': 'Bulb', 'Price': 50, 'Quantity': 150},\n",
       " '1014': {'Name': 'LED', 'Price': 75000, 'Quantity': 42},\n",
       " '1015': {'Name': 'Tablet', 'Price': 30000, 'Quantity': 18},\n",
       " '1016': {'Name': 'Table', 'Price': 2400, 'Quantity': 23},\n",
       " '1017': {'Name': 'Rod', 'Price': 800, 'Quantity': 750},\n",
       " '1018': {'Name': 'Window Glass', 'Price': 1700, 'Quantity': 67},\n",
       " '1019': {'Name': 'Sun Glasses', 'Price': 1000, 'Quantity': 78},\n",
       " '1020': {'Name': 'Artificial Plants', 'Price': 400, 'Quantity': 350},\n",
       " 1021: {'Name': 'shirt', 'Price': 1000, 'Quantity': 4},\n",
       " 1022: {'Name': 'shoe polish', 'Price': 8, 'Quantity': 80},\n",
       " 1023: {'Name': 'colours', 'Price': 100, 'Quantity': 10},\n",
       " 1024: {'Name': 'tshirt', 'Price': 500, 'Quantity': 10},\n",
       " 1025: {'Name': 'handgloves', 'Price': 600, 'Quantity': 20},\n",
       " 1026: {'Name': 'charger', 'Price': 700, 'Quantity': 5},\n",
       " 1027: {'Name': 'boots', 'Price': 2000, 'Quantity': 6},\n",
       " 1028: {'Name': 'candies', 'Price': 30, 'Quantity': 40}}"
      ]
     },
     "execution_count": 14,
     "metadata": {},
     "output_type": "execute_result"
    }
   ],
   "source": [
    "Record"
   ]
  }
 ],
 "metadata": {
  "kernelspec": {
   "display_name": "Python 3",
   "language": "python",
   "name": "python3"
  },
  "language_info": {
   "codemirror_mode": {
    "name": "ipython",
    "version": 3
   },
   "file_extension": ".py",
   "mimetype": "text/x-python",
   "name": "python",
   "nbconvert_exporter": "python",
   "pygments_lexer": "ipython3",
   "version": "3.8.8"
  }
 },
 "nbformat": 4,
 "nbformat_minor": 5
}
