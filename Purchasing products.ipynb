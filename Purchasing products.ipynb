{
 "cells": [
  {
   "cell_type": "markdown",
   "id": "d207efdc",
   "metadata": {},
   "source": [
    "# surbhi Rastogi\n",
    "Python for ML/AI intern @ Elite Techno Groups\n",
    "Project #1 - JSON Based Inventory Management System\n",
    "Read Inventory"
   ]
  },
  {
   "cell_type": "code",
   "execution_count": 2,
   "id": "62cc8a34",
   "metadata": {},
   "outputs": [],
   "source": [
    "import json\n",
    "\n",
    "fd = open(\"Record.json\",'r')\n",
    "r = fd.read()\n",
    "fd.close()\n",
    "\n",
    "Record = json.loads(r)\n"
   ]
  },
  {
   "cell_type": "code",
   "execution_count": 3,
   "id": "234154d6",
   "metadata": {},
   "outputs": [
    {
     "data": {
      "text/plain": [
       "{'1001': {'Name': 'Drink', 'Price': 100, 'Quantity': 100},\n",
       " '1002': {'Name': 'Choco Cake', 'Price': 40, 'Quantity': 20},\n",
       " '1003': {'Name': 'Keyboard', 'Price': 350, 'Quantity': 25},\n",
       " '1004': {'Name': 'Laptop', 'Price': 50000, 'Quantity': 8},\n",
       " '1005': {'Name': 'Juice', 'Price': 150, 'Quantity': 95},\n",
       " '1006': {'Name': 'Pen', 'Price': 20, 'Quantity': 100},\n",
       " '1007': {'Name': 'Box', 'Price': 50, 'Quantity': 70},\n",
       " '1008': {'Name': 'Mobile Phone', 'Price': 15000, 'Quantity': 15},\n",
       " '1009': {'Name': 'Notebook', 'Price': 30, 'Quantity': 75},\n",
       " '1010': {'Name': 'Case', 'Price': 1500, 'Quantity': 55},\n",
       " '1011': {'Name': 'Sofa', 'Price': 40000, 'Quantity': 30},\n",
       " '1012': {'Name': 'Bed', 'Price': 45000, 'Quantity': 17},\n",
       " '1013': {'Name': 'Bulb', 'Price': 50, 'Quantity': 150},\n",
       " '1014': {'Name': 'LED', 'Price': 75000, 'Quantity': 42},\n",
       " '1015': {'Name': 'Tablet', 'Price': 30000, 'Quantity': 18},\n",
       " '1016': {'Name': 'Table', 'Price': 2400, 'Quantity': 23},\n",
       " '1017': {'Name': 'Rod', 'Price': 800, 'Quantity': 750},\n",
       " '1018': {'Name': 'Window Glass', 'Price': 1700, 'Quantity': 67},\n",
       " '1019': {'Name': 'Sun Glasses', 'Price': 1000, 'Quantity': 78},\n",
       " '1020': {'Name': 'Artificial Plants', 'Price': 400, 'Quantity': 350},\n",
       " '1021': {'Name': 'shirt', 'Price': 1000, 'Quantity': 4},\n",
       " '1022': {'Name': 'shoe polish', 'Price': 8, 'Quantity': 80},\n",
       " '1023': {'Name': 'colours', 'Price': 100, 'Quantity': 10},\n",
       " '1024': {'Name': 'tshirt', 'Price': 500, 'Quantity': 10},\n",
       " '1025': {'Name': 'handgloves', 'Price': 600, 'Quantity': 20},\n",
       " '1026': {'Name': 'charger', 'Price': 700, 'Quantity': 5},\n",
       " '1027': {'Name': 'boots', 'Price': 2000, 'Quantity': 6},\n",
       " '1028': {'Name': 'candies', 'Price': 30, 'Quantity': 40}}"
      ]
     },
     "execution_count": 3,
     "metadata": {},
     "output_type": "execute_result"
    }
   ],
   "source": [
    "Record"
   ]
  },
  {
   "cell_type": "markdown",
   "id": "570ac8f5",
   "metadata": {},
   "source": [
    "# purchasing products"
   ]
  },
  {
   "cell_type": "code",
   "execution_count": 5,
   "id": "c2dfe254",
   "metadata": {},
   "outputs": [
    {
     "name": "stdout",
     "output_type": "stream",
     "text": [
      "Enter the Product_Id: 1015\n",
      "Enter the Quantity: 30\n",
      "Product:  Tablet\n",
      "Price:  30000\n",
      "Billing Amount:  900000\n"
     ]
    }
   ],
   "source": [
    "ui_prod  = str(input(\"Enter the Product_Id: \"))\n",
    "ui_quant = int(input(\"Enter the Quantity: \"))\n",
    "\n",
    "\n",
    "print(\"Product: \", Record[ui_prod]['Name'])\n",
    "print(\"Price: \", Record[ui_prod]['Price'])\n",
    "print(\"Billing Amount: \", Record[ui_prod]['Price'] * ui_quant)\n",
    "\n",
    "Record[ui_prod]['Quantity'] = Record[ui_prod]['Quantity'] - ui_quant"
   ]
  },
  {
   "cell_type": "markdown",
   "id": "f0abae9d",
   "metadata": {},
   "source": [
    "# sales"
   ]
  },
  {
   "cell_type": "code",
   "execution_count": 8,
   "id": "0d964d3d",
   "metadata": {},
   "outputs": [
    {
     "data": {
      "text/plain": [
       "{'Prod': '1015', 'Quantity': 30, 'Amount': 900000}"
      ]
     },
     "execution_count": 8,
     "metadata": {},
     "output_type": "execute_result"
    }
   ],
   "source": [
    "{'Prod' : ui_prod, 'Quantity' : ui_quant, 'Amount': Record[ui_prod]['Price'] * ui_quant}"
   ]
  },
  {
   "cell_type": "code",
   "execution_count": 9,
   "id": "d1b1fcba",
   "metadata": {},
   "outputs": [],
   "source": [
    "sales = {1 : {'Prod' : ui_prod, 'Quantity' : ui_quant, 'Amount': Record[ui_prod]['Price'] * ui_quant},\n",
    "         2 : {'Prod' : ui_prod, 'Quantity' : ui_quant, 'Amount': Record[ui_prod]['Price'] * ui_quant},\n",
    "         3 : {'Prod' : ui_prod, 'Quantity' : ui_quant, 'Amount': Record[ui_prod]['Price'] * ui_quant}}"
   ]
  },
  {
   "cell_type": "code",
   "execution_count": 10,
   "id": "30a446d8",
   "metadata": {},
   "outputs": [],
   "source": [
    "sale = json.dumps(sales)"
   ]
  },
  {
   "cell_type": "code",
   "execution_count": 11,
   "id": "b96a88f4",
   "metadata": {},
   "outputs": [
    {
     "data": {
      "text/plain": [
       "'{\"1\": {\"Prod\": \"1015\", \"Quantity\": 30, \"Amount\": 900000}, \"2\": {\"Prod\": \"1015\", \"Quantity\": 30, \"Amount\": 900000}, \"3\": {\"Prod\": \"1015\", \"Quantity\": 30, \"Amount\": 900000}}'"
      ]
     },
     "execution_count": 11,
     "metadata": {},
     "output_type": "execute_result"
    }
   ],
   "source": [
    "sale"
   ]
  }
 ],
 "metadata": {
  "kernelspec": {
   "display_name": "Python 3",
   "language": "python",
   "name": "python3"
  },
  "language_info": {
   "codemirror_mode": {
    "name": "ipython",
    "version": 3
   },
   "file_extension": ".py",
   "mimetype": "text/x-python",
   "name": "python",
   "nbconvert_exporter": "python",
   "pygments_lexer": "ipython3",
   "version": "3.8.8"
  }
 },
 "nbformat": 4,
 "nbformat_minor": 5
}
